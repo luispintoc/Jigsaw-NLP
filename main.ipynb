{
 "cells": [
  {
   "cell_type": "markdown",
   "metadata": {},
   "source": [
    "# Jigsaw Unintended Bias in Toxicity Classification"
   ]
  },
  {
   "cell_type": "markdown",
   "metadata": {},
   "source": [
    "## Outline\n",
    "- [0. Overview](#0)\n",
    "- [1. Read data and preprocessing](#1)\n",
    "- [2. Tokenization](#2)\n",
    "- [3. Embeddings](#3)\n",
    "- [4. Train validation split](#4)\n",
    "- [5. Target preprocessing](#5)\n",
    "- [6. Model](#6)\n",
    "- [7. Results](#7)"
   ]
  },
  {
   "cell_type": "markdown",
   "metadata": {},
   "source": [
    "<a name='0'></a>\n",
    "# 0. Overview\n",
    "\n",
    "This is a notebook dedicated to the [Jigsaw Unintended Bias in Toxicity Classification Kaggle competition](https://www.kaggle.com/c/jigsaw-unintended-bias-in-toxicity-classification/overview). This is the second competition the Conversation AI team, founded by Jigsaw and Google, have released and it was held in 2018. The goal of this competition is to build a model that recognizes toxicity and minimizes unintended bias with respect to mentions of identities. The motivation for such a task is the following: models usually predict a high likelihood of toxicity for comments containing frequently attacked identities (e.g. \"gay\"), even when those comments are not actually toxic (such as \"I am a gay woman\"). This happens because training data is pulled from available sources where unfortunately, certain identities are overwhelmingly referred to in offensive ways.\n",
    "\n",
    "The model shown in this notebook consists of Bi-directional LSTMs with pre-trained embeddings and it has a score of 0.96 validation AUC (15% hold-out data = 270732 comments). The embeddings used are 300 dimensional vectors from [GloVe](https://nlp.stanford.edu/projects/glove/) and [fastText](https://fasttext.cc/docs/en/english-vectors.html).\n",
    "\n",
    "My inspirations for this notebook are:\n",
    "- https://www.kaggle.com/dborkan/benchmark-kernel/\n",
    "- https://www.kaggle.com/kunwar31/simple-lstm-with-identity-parameters-fastai/\n",
    "- https://www.kaggle.com/tanreinama/simple-lstm-using-identity-parameters-solution/"
   ]
  },
  {
   "cell_type": "markdown",
   "metadata": {},
   "source": [
    "Import libraries and auxiliar script."
   ]
  },
  {
   "cell_type": "code",
   "execution_count": 1,
   "metadata": {},
   "outputs": [],
   "source": [
    "%load_ext autoreload\n",
    "%autoreload 2\n",
    "\n",
    "import numpy as np\n",
    "import matplotlib.pyplot as plt\n",
    "import pandas as pd\n",
    "import datetime, sys, string\n",
    "import regex as re\n",
    "import gc\n",
    "from tqdm import tqdm\n",
    "from sklearn import model_selection\n",
    "\n",
    "import tensorflow as tf\n",
    "import tensorflow_hub as hub\n",
    "from tensorflow.keras.callbacks import ModelCheckpoint\n",
    "from tensorflow.keras.preprocessing import sequence\n",
    "from tensorflow.keras.losses import BinaryCrossentropy\n",
    "from tensorflow.keras.initializers import Constant\n",
    "from tensorflow.keras.preprocessing.text import Tokenizer\n",
    "from tensorflow.keras.models import Sequential, Model\n",
    "from tensorflow.keras.layers import Dense, LSTM, Embedding, SpatialDropout1D, Dropout, Input, GlobalMaxPooling1D, GlobalAveragePooling1D, Concatenate, Bidirectional, Add, Reshape\n",
    "from tensorflow.keras.optimizers import Adam\n",
    "\n",
    "from utils import *\n",
    "\n",
    "pd.options.mode.chained_assignment = None\n",
    "np.random.seed(1)\n",
    "tf.random.set_seed(1)"
   ]
  },
  {
   "cell_type": "markdown",
   "metadata": {},
   "source": [
    "<a name='1'></a>\n",
    "# 1. Read data and preprocessing"
   ]
  },
  {
   "cell_type": "markdown",
   "metadata": {},
   "source": [
    "The dataset was downloaded from Kaggle and stored in a file called 'input'. "
   ]
  },
  {
   "cell_type": "code",
   "execution_count": 2,
   "metadata": {},
   "outputs": [],
   "source": [
    "train = pd.read_csv('input/train.csv')\n",
    "test = pd.read_csv('input/test.csv')"
   ]
  },
  {
   "cell_type": "markdown",
   "metadata": {},
   "source": [
    "Define functions to correct misspelled words and remove punctuation."
   ]
  },
  {
   "cell_type": "code",
   "execution_count": 3,
   "metadata": {},
   "outputs": [],
   "source": [
    "def misspelled(comment, misspell_dict):\n",
    "    comment = comment.split()\n",
    "    clean_comment = ''\n",
    "    for word in comment:\n",
    "        if word.lower() in misspell_dict.keys():\n",
    "            word = misspell_dict[word.lower()]\n",
    "        clean_comment+=(' ')+word\n",
    "    return clean_comment.strip(' ')\n",
    "\n",
    "\n",
    "def preprocess(data, misspell_dict):    \n",
    "    punct = \"/-'?!.,#$%\\'()*+-/:;<=>@[\\\\]^_`{|}~`\" + '\"\"“”’' + '∞θ÷α•à−β∅³π‘₹´°£€\\×™√²—–&'\n",
    "    def clean_special_chars(text, punct):\n",
    "        for p in punct:\n",
    "            text = text.replace(p, ' ')\n",
    "        return text\n",
    "    data = data.astype(str).apply(lambda x: clean_special_chars(x, punct))\n",
    "    return data"
   ]
  },
  {
   "cell_type": "markdown",
   "metadata": {},
   "source": [
    "Create a copy of the train and test comments to preprocess them"
   ]
  },
  {
   "cell_type": "code",
   "execution_count": 4,
   "metadata": {},
   "outputs": [],
   "source": [
    "text_train = train['comment_text'].copy()\n",
    "text_test = test['comment_text'].copy()"
   ]
  },
  {
   "cell_type": "code",
   "execution_count": 5,
   "metadata": {},
   "outputs": [
    {
     "name": "stderr",
     "output_type": "stream",
     "text": [
      "1804874it [02:04, 14504.74it/s]\n"
     ]
    }
   ],
   "source": [
    "for i, line in tqdm(enumerate(text_train)):\n",
    "    text_train[i] = misspelled(line, misspell_dict)"
   ]
  },
  {
   "cell_type": "code",
   "execution_count": 6,
   "metadata": {},
   "outputs": [],
   "source": [
    "x_train = preprocess(text_train, misspell_dict)\n",
    "x_test = preprocess(text_test, misspell_dict)"
   ]
  },
  {
   "cell_type": "markdown",
   "metadata": {},
   "source": [
    "<a name='2'></a>\n",
    "# 2. Tokenization\n",
    "\n",
    "The tokenization won't be applied until after the data is split into train and validation."
   ]
  },
  {
   "cell_type": "markdown",
   "metadata": {},
   "source": [
    "Visualize the lenght of the comments to choose an appropiate maximum lenght."
   ]
  },
  {
   "cell_type": "code",
   "execution_count": 7,
   "metadata": {},
   "outputs": [
    {
     "data": {
      "image/png": "[encoded data removed]",
      "text/plain": [
       "<Figure size 432x288 with 1 Axes>"
      ]
     },
     "metadata": {
      "needs_background": "light"
     },
     "output_type": "display_data"
    }
   ],
   "source": [
    "counts = []\n",
    "for comment in x_train:\n",
    "    counts.append(len(comment.split()))\n",
    "_ = plt.hist(counts, bins=30)"
   ]
  },
  {
   "cell_type": "markdown",
   "metadata": {},
   "source": [
    "Given the distribution above, the maximum lenght will be set to 200."
   ]
  },
  {
   "cell_type": "code",
   "execution_count": 8,
   "metadata": {},
   "outputs": [],
   "source": [
    "MAX_LEN = 200\n",
    "tokenizer = Tokenizer()\n",
    "tokenizer.fit_on_texts(list(x_train) + list(x_test))"
   ]
  },
  {
   "cell_type": "markdown",
   "metadata": {},
   "source": [
    "<a name='3'></a>\n",
    "# 3. Embeddings"
   ]
  },
  {
   "cell_type": "markdown",
   "metadata": {},
   "source": [
    "Import the embeddings. These were obtained from the links mentioned above."
   ]
  },
  {
   "cell_type": "code",
   "execution_count": 9,
   "metadata": {},
   "outputs": [],
   "source": [
    "CRAWL_EMBEDDING_PATH = 'embeddings/crawl-300d-2M.vec/crawl-300d-2M.vec'\n",
    "GLOVE_EMBEDDING_PATH = 'embeddings/glove/glove.840B.300d.txt'"
   ]
  },
  {
   "cell_type": "code",
   "execution_count": 10,
   "metadata": {},
   "outputs": [],
   "source": [
    "def get_coefs(word, *arr):\n",
    "    return word, np.asarray(arr, dtype='float32')\n",
    "\n",
    "def load_embeddings(path):\n",
    "    with open(path, encoding=\"utf8\") as f:\n",
    "        return dict(get_coefs(*line.strip().split(' ')) for line in tqdm(f))\n",
    "\n",
    "def build_matrix(word_index, path):\n",
    "    embedding_index = load_embeddings(path)\n",
    "    embedding_matrix = np.zeros((len(word_index) + 1, 300))\n",
    "    unknown_words = []\n",
    "    \n",
    "    for word, i in word_index.items():\n",
    "        try:\n",
    "            embedding_matrix[i] = embedding_index[word]\n",
    "        except KeyError:\n",
    "            unknown_words.append(word)\n",
    "    return embedding_matrix, unknown_words"
   ]
  },
  {
   "cell_type": "markdown",
   "metadata": {},
   "source": [
    "Create matrices for each pre-trained embedding."
   ]
  },
  {
   "cell_type": "code",
   "execution_count": 11,
   "metadata": {},
   "outputs": [
    {
     "name": "stderr",
     "output_type": "stream",
     "text": [
      "1999996it [03:59, 8347.25it/s]\n"
     ]
    },
    {
     "name": "stdout",
     "output_type": "stream",
     "text": [
      "n unknown words (crawl):  171860\n"
     ]
    }
   ],
   "source": [
    "crawl_matrix, unknown_words_crawl = build_matrix(tokenizer.word_index, CRAWL_EMBEDDING_PATH)\n",
    "print('n unknown words (crawl): ', len(unknown_words_crawl))"
   ]
  },
  {
   "cell_type": "code",
   "execution_count": 12,
   "metadata": {},
   "outputs": [
    {
     "name": "stderr",
     "output_type": "stream",
     "text": [
      "2196017it [04:09, 8818.63it/s]\n"
     ]
    },
    {
     "name": "stdout",
     "output_type": "stream",
     "text": [
      "n unknown words (glove):  168567\n"
     ]
    }
   ],
   "source": [
    "glove_matrix, unknown_words_glove = build_matrix(tokenizer.word_index, GLOVE_EMBEDDING_PATH)\n",
    "print('n unknown words (glove): ', len(unknown_words_glove))"
   ]
  },
  {
   "cell_type": "markdown",
   "metadata": {},
   "source": [
    "Combininig the two matrices we get an embedding matrix with 600 dimensions for each word."
   ]
  },
  {
   "cell_type": "code",
   "execution_count": 13,
   "metadata": {
    "scrolled": true
   },
   "outputs": [
    {
     "name": "stdout",
     "output_type": "stream",
     "text": [
      "(325203, 600)\n"
     ]
    },
    {
     "data": {
      "text/plain": [
       "16"
      ]
     },
     "execution_count": 13,
     "metadata": {},
     "output_type": "execute_result"
    }
   ],
   "source": [
    "embedding_matrix = np.concatenate([crawl_matrix, glove_matrix], axis=-1)\n",
    "print(embedding_matrix.shape)\n",
    "\n",
    "del x_test\n",
    "del crawl_matrix\n",
    "del glove_matrix\n",
    "gc.collect()"
   ]
  },
  {
   "cell_type": "markdown",
   "metadata": {},
   "source": [
    "<a name='4'></a>\n",
    "# 4. Train validation split"
   ]
  },
  {
   "cell_type": "markdown",
   "metadata": {},
   "source": [
    "The dataset is split in two using stratification and random splitting. The validation set consists of 15% of the available training data. Moreover, the train and validation comments are tokenized."
   ]
  },
  {
   "cell_type": "code",
   "execution_count": 14,
   "metadata": {},
   "outputs": [
    {
     "name": "stdout",
     "output_type": "stream",
     "text": [
      "1534142 train comments, 270732 validation comments\n"
     ]
    }
   ],
   "source": [
    "train['comment_text'] = x_train\n",
    "train['target_binary'] = (train['target'].values>=0.5).astype(np.int)\n",
    "\n",
    "train_df, val_df = model_selection.train_test_split(train, test_size=0.15, stratify=train['target_binary'], random_state=40)\n",
    "print('%d train comments, %d validation comments' % (len(train_df), len(val_df)))\n",
    "\n",
    "x_train = sequence.pad_sequences(tokenizer.texts_to_sequences(train_df['comment_text']), maxlen=MAX_LEN)\n",
    "x_val = sequence.pad_sequences(tokenizer.texts_to_sequences(val_df['comment_text']), maxlen=MAX_LEN)"
   ]
  },
  {
   "cell_type": "markdown",
   "metadata": {},
   "source": [
    "<a name='5'></a>\n",
    "# 5. Target preprocessing"
   ]
  },
  {
   "cell_type": "markdown",
   "metadata": {},
   "source": [
    "The metric used in this competition consists of a weighted sum between the overall AUC and the bias AUCs of the following three specific subsets:\n",
    "\n",
    "Subgroup AUC: Here, we restrict the data set to only the examples that mention the specific identity subgroup. A low value in this metric means the model does a poor job of distinguishing between toxic and non-toxic comments that mention the identity.\n",
    "\n",
    "BPSN  AUC: Here, we restrict the data to the non-toxic examples that mention the identity and the toxic examples that do not. A low value in this metric means that the model confuses non-toxic examples that mention the identity with toxic examples that do not, likely meaning that the model predicts higher toxicity scores than it should for non-toxic examples mentioning the identity.\n",
    "\n",
    "BNSP  AUC: Here, we restrict the data set to the toxic examples that mention the identity and the non-toxic examples that do not. A low value here means that the model confuses toxic examples that mention the identity with non-toxic examples that do not, likely meaning that the model predicts lower toxicity scores than it should for toxic examples mentioning the identity."
   ]
  },
  {
   "cell_type": "code",
   "execution_count": 15,
   "metadata": {},
   "outputs": [],
   "source": [
    "identity_columns = [\n",
    "    'male', 'female', 'homosexual_gay_or_lesbian', 'christian', 'jewish',\n",
    "    'muslim', 'black', 'white', 'psychiatric_or_mental_illness']\n",
    "\n",
    "def target_preprocessing(df):\n",
    "    # Overall\n",
    "    weights = np.ones((len(df['comment_text']),)) / 4\n",
    "    # Subgroup\n",
    "    weights += (df[identity_columns].fillna(0).values>=0.5).sum(axis=1).astype(bool).astype(np.int) / 4\n",
    "    # Background Positive, Subgroup Negative\n",
    "    weights += (( (df['target'].values>=0.5).astype(bool).astype(np.int) +\n",
    "       (df[identity_columns].fillna(0).values<0.5).sum(axis=1).astype(bool).astype(np.int) ) > 1 ).astype(bool).astype(np.int) / 4\n",
    "    # Background Negative, Subgroup Positive\n",
    "    weights += (( (df['target'].values<0.5).astype(bool).astype(np.int) +\n",
    "       (df[identity_columns].fillna(0).values>=0.5).sum(axis=1).astype(bool).astype(np.int) ) > 1 ).astype(bool).astype(np.int) / 4\n",
    "    loss_weight = 1.0 / weights.mean()\n",
    "\n",
    "    y = np.vstack([(df['target'].values>=0.5).astype(np.int),weights]).T\n",
    "    y_aux = df[['target', 'severe_toxicity', 'obscene', 'identity_attack', 'insult', 'threat']].values\n",
    "    return y, y_aux, loss_weight\n",
    "\n",
    "y_train, y_aux_train, train_weight = target_preprocessing(train_df)\n",
    "y_val, y_aux_val, val_weight = target_preprocessing(val_df)"
   ]
  },
  {
   "cell_type": "markdown",
   "metadata": {},
   "source": [
    "<a name='6'></a>\n",
    "# 6. Model"
   ]
  },
  {
   "cell_type": "markdown",
   "metadata": {},
   "source": [
    "A custom loss is implemented in which each target value is weighted by its importance given the definition above."
   ]
  },
  {
   "cell_type": "code",
   "execution_count": 16,
   "metadata": {},
   "outputs": [],
   "source": [
    "def custom_loss(y_true, y_pred):\n",
    "    return BinaryCrossentropy()(tf.keras.backend.reshape(y_true[:,0],(-1,1)), y_pred) * y_true[:,1]"
   ]
  },
  {
   "cell_type": "code",
   "execution_count": 17,
   "metadata": {},
   "outputs": [
    {
     "name": "stdout",
     "output_type": "stream",
     "text": [
      "Model: \"model\"\n",
      "__________________________________________________________________________________________________\n",
      "Layer (type)                    Output Shape         Param #     Connected to                     \n",
      "==================================================================================================\n",
      "input_1 (InputLayer)            [(None, 200)]        0                                            \n",
      "__________________________________________________________________________________________________\n",
      "embedding (Embedding)           (None, 200, 600)     195121800   input_1[0][0]                    \n",
      "__________________________________________________________________________________________________\n",
      "spatial_dropout1d (SpatialDropo (None, 200, 600)     0           embedding[0][0]                  \n",
      "__________________________________________________________________________________________________\n",
      "bidirectional (Bidirectional)   (None, 200, 512)     1755136     spatial_dropout1d[0][0]          \n",
      "__________________________________________________________________________________________________\n",
      "bidirectional_1 (Bidirectional) (None, 200, 256)     656384      bidirectional[0][0]              \n",
      "__________________________________________________________________________________________________\n",
      "global_max_pooling1d (GlobalMax (None, 256)          0           bidirectional_1[0][0]            \n",
      "__________________________________________________________________________________________________\n",
      "global_average_pooling1d (Globa (None, 256)          0           bidirectional_1[0][0]            \n",
      "__________________________________________________________________________________________________\n",
      "concatenate (Concatenate)       (None, 512)          0           global_max_pooling1d[0][0]       \n",
      "                                                                 global_average_pooling1d[0][0]   \n",
      "__________________________________________________________________________________________________\n",
      "dense (Dense)                   (None, 512)          262656      concatenate[0][0]                \n",
      "__________________________________________________________________________________________________\n",
      "add (Add)                       (None, 512)          0           dense[0][0]                      \n",
      "                                                                 concatenate[0][0]                \n",
      "__________________________________________________________________________________________________\n",
      "dense_1 (Dense)                 (None, 512)          262656      add[0][0]                        \n",
      "__________________________________________________________________________________________________\n",
      "add_1 (Add)                     (None, 512)          0           dense_1[0][0]                    \n",
      "                                                                 add[0][0]                        \n",
      "__________________________________________________________________________________________________\n",
      "dense_2 (Dense)                 (None, 1)            513         add_1[0][0]                      \n",
      "__________________________________________________________________________________________________\n",
      "dense_3 (Dense)                 (None, 6)            3078        add_1[0][0]                      \n",
      "==================================================================================================\n",
      "Total params: 198,062,223\n",
      "Trainable params: 2,940,423\n",
      "Non-trainable params: 195,121,800\n",
      "__________________________________________________________________________________________________\n"
     ]
    }
   ],
   "source": [
    "tf.keras.backend.clear_session()\n",
    "\n",
    "def lstm_model(embedding_matrix, aux_target_shape, loss_weight):\n",
    "    sequences = Input(shape=(MAX_LEN, ))\n",
    "    x = Embedding(*embedding_matrix.shape,  \n",
    "                    embeddings_initializer=Constant(embedding_matrix), \n",
    "                    trainable=False)(sequences)\n",
    "    x = SpatialDropout1D(0.15)(x)\n",
    "    x = Bidirectional(LSTM(256, dropout=0.1, return_sequences=True))(x)\n",
    "    x = Bidirectional(LSTM(128, dropout=0.1, return_sequences=True))(x)\n",
    "    \n",
    "    x = Concatenate()([GlobalMaxPooling1D()(x), GlobalAveragePooling1D()(x)])\n",
    "    \n",
    "    dense1 = Dense(512, activation='selu')(x)\n",
    "    x = Add()([dense1, x])\n",
    "    \n",
    "    dense2 = Dense(512, activation='selu')(x)\n",
    "    x = Add()([dense2, x])\n",
    "\n",
    "    result = Dense(1, activation='sigmoid')(x)\n",
    "    aux_result = Dense(aux_target_shape, activation='sigmoid')(x)\n",
    "    \n",
    "    model = Model(inputs=sequences, outputs=[result, aux_result])\n",
    "\n",
    "    model.compile(loss=[custom_loss, 'binary_crossentropy'], loss_weights=[loss_weight, 1.0], optimizer='adam')\n",
    "    \n",
    "    return model\n",
    "\n",
    "\n",
    "model = lstm_model(embedding_matrix, y_aux_train.shape[-1], train_weight)\n",
    "model.summary()"
   ]
  },
  {
   "cell_type": "markdown",
   "metadata": {},
   "source": [
    "The model is trained for 2 epochs with the parameters below."
   ]
  },
  {
   "cell_type": "code",
   "execution_count": 18,
   "metadata": {},
   "outputs": [],
   "source": [
    "model.load_weights('lstm.h5')\n",
    "# checkpoint = ModelCheckpoint('lstm.h5', monitor='val_loss', save_best_only=True, mode='min', save_weights_only=True)\n",
    "# batch_size = 256\n",
    "# train_history = model.fit(\n",
    "#                         x_train,\n",
    "#                         [y_train, y_aux_train],\n",
    "#                         validation_data=(x_val, [y_val, y_aux_val]),\n",
    "#                         batch_size = batch_size,\n",
    "#                         epochs = 2,\n",
    "#                         verbose = 2,\n",
    "#                         callbacks=[checkpoint])"
   ]
  },
  {
   "cell_type": "markdown",
   "metadata": {},
   "source": [
    "<a name='7'></a>\n",
    "# 7. Results"
   ]
  },
  {
   "cell_type": "markdown",
   "metadata": {},
   "source": [
    "The predicitions for the validation set are stored in the val_df dataframe to compute the corresponding metrics."
   ]
  },
  {
   "cell_type": "code",
   "execution_count": 19,
   "metadata": {},
   "outputs": [],
   "source": [
    "MODEL_NAME = 'my_model'\n",
    "predictions = model.predict(x_val)\n",
    "val_df[MODEL_NAME] = predictions[0].flatten()"
   ]
  },
  {
   "cell_type": "markdown",
   "metadata": {},
   "source": [
    "Define and compute each AUC metric."
   ]
  },
  {
   "cell_type": "code",
   "execution_count": 20,
   "metadata": {},
   "outputs": [
    {
     "data": {
      "text/html": [
       "<div>\n",
       "<style scoped>\n",
       "    .dataframe tbody tr th:only-of-type {\n",
       "        vertical-align: middle;\n",
       "    }\n",
       "\n",
       "    .dataframe tbody tr th {\n",
       "        vertical-align: top;\n",
       "    }\n",
       "\n",
       "    .dataframe thead th {\n",
       "        text-align: right;\n",
       "    }\n",
       "</style>\n",
       "<table border=\"1\" class=\"dataframe\">\n",
       "  <thead>\n",
       "    <tr style=\"text-align: right;\">\n",
       "      <th></th>\n",
       "      <th>bnsp_auc</th>\n",
       "      <th>bpsn_auc</th>\n",
       "      <th>subgroup</th>\n",
       "      <th>subgroup_auc</th>\n",
       "    </tr>\n",
       "  </thead>\n",
       "  <tbody>\n",
       "    <tr>\n",
       "      <th>1</th>\n",
       "      <td>0.952728</td>\n",
       "      <td>0.968552</td>\n",
       "      <td>female</td>\n",
       "      <td>0.969390</td>\n",
       "    </tr>\n",
       "    <tr>\n",
       "      <th>0</th>\n",
       "      <td>0.953986</td>\n",
       "      <td>0.967405</td>\n",
       "      <td>male</td>\n",
       "      <td>0.969428</td>\n",
       "    </tr>\n",
       "    <tr>\n",
       "      <th>5</th>\n",
       "      <td>0.952031</td>\n",
       "      <td>0.970172</td>\n",
       "      <td>muslim</td>\n",
       "      <td>0.969597</td>\n",
       "    </tr>\n",
       "    <tr>\n",
       "      <th>7</th>\n",
       "      <td>0.955440</td>\n",
       "      <td>0.967720</td>\n",
       "      <td>white</td>\n",
       "      <td>0.969624</td>\n",
       "    </tr>\n",
       "    <tr>\n",
       "      <th>3</th>\n",
       "      <td>0.947984</td>\n",
       "      <td>0.970878</td>\n",
       "      <td>christian</td>\n",
       "      <td>0.969920</td>\n",
       "    </tr>\n",
       "    <tr>\n",
       "      <th>6</th>\n",
       "      <td>0.954075</td>\n",
       "      <td>0.968254</td>\n",
       "      <td>black</td>\n",
       "      <td>0.970118</td>\n",
       "    </tr>\n",
       "    <tr>\n",
       "      <th>2</th>\n",
       "      <td>0.952800</td>\n",
       "      <td>0.968948</td>\n",
       "      <td>homosexual_gay_or_lesbian</td>\n",
       "      <td>0.970353</td>\n",
       "    </tr>\n",
       "    <tr>\n",
       "      <th>4</th>\n",
       "      <td>0.949755</td>\n",
       "      <td>0.970760</td>\n",
       "      <td>jewish</td>\n",
       "      <td>0.970527</td>\n",
       "    </tr>\n",
       "    <tr>\n",
       "      <th>8</th>\n",
       "      <td>0.950957</td>\n",
       "      <td>0.969780</td>\n",
       "      <td>psychiatric_or_mental_illness</td>\n",
       "      <td>0.970763</td>\n",
       "    </tr>\n",
       "  </tbody>\n",
       "</table>\n",
       "</div>"
      ],
      "text/plain": [
       "   bnsp_auc  bpsn_auc                       subgroup  subgroup_auc\n",
       "1  0.952728  0.968552                         female      0.969390\n",
       "0  0.953986  0.967405                           male      0.969428\n",
       "5  0.952031  0.970172                         muslim      0.969597\n",
       "7  0.955440  0.967720                          white      0.969624\n",
       "3  0.947984  0.970878                      christian      0.969920\n",
       "6  0.954075  0.968254                          black      0.970118\n",
       "2  0.952800  0.968948      homosexual_gay_or_lesbian      0.970353\n",
       "4  0.949755  0.970760                         jewish      0.970527\n",
       "8  0.950957  0.969780  psychiatric_or_mental_illness      0.970763"
      ]
     },
     "execution_count": 20,
     "metadata": {},
     "output_type": "execute_result"
    }
   ],
   "source": [
    "from sklearn import metrics\n",
    "\n",
    "TOXICITY_COLUMN = 'target_binary'\n",
    "SUBGROUP_AUC = 'subgroup_auc'\n",
    "BPSN_AUC = 'bpsn_auc'  # stands for background positive, subgroup negative\n",
    "BNSP_AUC = 'bnsp_auc'  # stands for background negative, subgroup positive\n",
    "\n",
    "def compute_auc(y_true, y_pred):\n",
    "    try:\n",
    "        return metrics.roc_auc_score(y_true, y_pred)\n",
    "    except ValueError:\n",
    "        return np.nan\n",
    "\n",
    "def compute_subgroup_auc(df, subgroup, label, model_name):\n",
    "    subgroup_examples = df.loc[df[subgroup].astype(bool)]\n",
    "    return compute_auc(subgroup_examples[label], subgroup_examples[model_name])\n",
    "\n",
    "def compute_bpsn_auc(df, subgroup, label, model_name):\n",
    "    \"\"\"Computes the AUC of the within-subgroup negative examples and the background positive examples.\"\"\"\n",
    "    subgroup_negative_examples = df.loc[df[subgroup].astype(bool) & ~df[label].astype(bool)]\n",
    "    non_subgroup_positive_examples = df.loc[~df[subgroup].astype(bool) & df[label].astype(bool)]\n",
    "    examples = subgroup_negative_examples.append(non_subgroup_positive_examples)\n",
    "    return compute_auc(examples[label], examples[model_name])\n",
    "\n",
    "def compute_bnsp_auc(df, subgroup, label, model_name):\n",
    "    \"\"\"Computes the AUC of the within-subgroup positive examples and the background negative examples.\"\"\"\n",
    "    subgroup_positive_examples = df.loc[df[subgroup].astype(bool) & df[label].astype(bool)]\n",
    "    non_subgroup_negative_examples = df.loc[~df[subgroup].astype(bool) & ~df[label].astype(bool)]\n",
    "    examples = subgroup_positive_examples.append(non_subgroup_negative_examples)\n",
    "    return compute_auc(examples[label], examples[model_name])\n",
    "\n",
    "def compute_bias_metrics_for_model(dataset,\n",
    "                                   subgroups,\n",
    "                                   model,\n",
    "                                   label_col,\n",
    "                                   include_asegs=False):\n",
    "    \"\"\"Computes per-subgroup metrics for all subgroups and one model.\"\"\"\n",
    "    records = []\n",
    "    for subgroup in subgroups:\n",
    "        record = {\n",
    "            'subgroup': subgroup\n",
    "        }\n",
    "        record[SUBGROUP_AUC] = compute_subgroup_auc(dataset, subgroup, label_col, model)\n",
    "        record[BPSN_AUC] = compute_bpsn_auc(dataset, subgroup, label_col, model)\n",
    "        record[BNSP_AUC] = compute_bnsp_auc(dataset, subgroup, label_col, model)\n",
    "        records.append(record)\n",
    "    return pd.DataFrame(records).sort_values('subgroup_auc', ascending=True)\n",
    "\n",
    "bias_metrics_df = compute_bias_metrics_for_model(val_df, identity_columns, MODEL_NAME, TOXICITY_COLUMN)\n",
    "bias_metrics_df"
   ]
  },
  {
   "cell_type": "code",
   "execution_count": 21,
   "metadata": {},
   "outputs": [],
   "source": [
    "def calculate_overall_auc(df, model_name):\n",
    "    true_labels = val_df['target_binary']\n",
    "    predicted_labels = df[model_name]\n",
    "    return metrics.roc_auc_score(true_labels, predicted_labels)\n",
    "\n",
    "def power_mean(series, p):\n",
    "    total = sum(np.power(series, p))\n",
    "    return np.power(total / len(series), 1 / p)\n",
    "\n",
    "def get_final_metric(bias_df, overall_auc, POWER=-5, OVERALL_MODEL_WEIGHT=0.25):\n",
    "    bias_score = np.average([\n",
    "        power_mean(bias_df[SUBGROUP_AUC], POWER),\n",
    "        power_mean(bias_df[BPSN_AUC], POWER),\n",
    "        power_mean(bias_df[BNSP_AUC], POWER)\n",
    "    ])\n",
    "    return (OVERALL_MODEL_WEIGHT * overall_auc) + ((1 - OVERALL_MODEL_WEIGHT) * bias_score)\n",
    "    \n",
    "AUC = get_final_metric(bias_metrics_df, calculate_overall_auc(val_df, MODEL_NAME))"
   ]
  },
  {
   "cell_type": "markdown",
   "metadata": {},
   "source": [
    "Plot the ROC curve for the validation set."
   ]
  },
  {
   "cell_type": "code",
   "execution_count": 22,
   "metadata": {},
   "outputs": [
    {
     "data": {
      "image/png": "[encoded data removed]",
      "text/plain": [
       "<Figure size 1080x576 with 1 Axes>"
      ]
     },
     "metadata": {
      "needs_background": "light"
     },
     "output_type": "display_data"
    }
   ],
   "source": [
    "from sklearn.metrics import roc_curve\n",
    "fpr, tpr, thresholds = roc_curve(val_df['target_binary'], predictions[0].flatten())\n",
    "\n",
    "plt.figure(figsize=(15,8))\n",
    "plt.plot([0, 1], [0, 1], 'k--')\n",
    "plt.plot(fpr, tpr, label='AUC = {:.3f}'.format(AUC))\n",
    "plt.xlabel('False positive rate')\n",
    "plt.ylabel('True positive rate')\n",
    "plt.title('ROC curve')\n",
    "plt.legend(loc='best')\n",
    "plt.show()"
   ]
  }
 ],
 "metadata": {
  "kernelspec": {
   "display_name": "Python 3",
   "language": "python",
   "name": "python3"
  },
  "language_info": {
   "codemirror_mode": {
    "name": "ipython",
    "version": 3
   },
   "file_extension": ".py",
   "mimetype": "text/x-python",
   "name": "python",
   "nbconvert_exporter": "python",
   "pygments_lexer": "ipython3",
   "version": "3.6.8"
  }
 },
 "nbformat": 4,
 "nbformat_minor": 2
}
